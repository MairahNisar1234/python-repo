{
 "cells": [
  {
   "cell_type": "code",
   "execution_count": 1,
   "id": "a96cebd3",
   "metadata": {},
   "outputs": [
    {
     "name": "stdout",
     "output_type": "stream",
     "text": [
      "[4, 7, 9, 0, 10]\n"
     ]
    }
   ],
   "source": [
    "print([4,7,9,0,10])"
   ]
  },
  {
   "cell_type": "code",
   "execution_count": 4,
   "id": "121463a3",
   "metadata": {},
   "outputs": [
    {
     "name": "stdout",
     "output_type": "stream",
     "text": [
      "this is a: pen\n",
      "this is a: pencil\n",
      "this is a: car\n",
      "thats it\n"
     ]
    }
   ],
   "source": [
    "things=(['pen', 'pencil', 'car'])\n",
    "for things in things:\n",
    "    print(\"this is a:\",things)\n",
    "print(\"thats it\")    "
   ]
  },
  {
   "cell_type": "code",
   "execution_count": 5,
   "id": "156d9acb",
   "metadata": {},
   "outputs": [
    {
     "name": "stdout",
     "output_type": "stream",
     "text": [
      "subjects are: AI\n",
      "subjects are: Machine learning\n",
      "subjects are: DSP\n",
      "subjects are: web\n"
     ]
    }
   ],
   "source": [
    "sub=(['AI','Machine learning','DSP','web'])\n",
    "for sub in sub:\n",
    "    print(\"subjects are:\",sub)\n",
    "    "
   ]
  },
  {
   "cell_type": "code",
   "execution_count": 7,
   "id": "90d496f5",
   "metadata": {},
   "outputs": [
    {
     "name": "stdout",
     "output_type": "stream",
     "text": [
      "a\n"
     ]
    }
   ],
   "source": [
    "lis=(['a','b','c','d','e'])\n",
    "print(lis[0])"
   ]
  },
  {
   "cell_type": "code",
   "execution_count": 8,
   "id": "4f82726a",
   "metadata": {},
   "outputs": [
    {
     "name": "stdout",
     "output_type": "stream",
     "text": [
      "[2, 4, 6, 10, 20, 22]\n"
     ]
    }
   ],
   "source": [
    "lis=([2,4,6,8,20,22])\n",
    "lis[3]=10\n",
    "print(lis)"
   ]
  },
  {
   "cell_type": "code",
   "execution_count": 10,
   "id": "2a8a44b8",
   "metadata": {},
   "outputs": [
    {
     "name": "stdout",
     "output_type": "stream",
     "text": [
      "9\n"
     ]
    }
   ],
   "source": [
    "Lis = [1, 2, 4, 4, 3, 3, 3, 6, 5]\n",
    "print(len(List))"
   ]
  },
  {
   "cell_type": "code",
   "execution_count": 12,
   "id": "751a09a0",
   "metadata": {},
   "outputs": [
    {
     "name": "stdout",
     "output_type": "stream",
     "text": [
      "range(0, 8)\n"
     ]
    }
   ],
   "source": [
    "print(range(8))"
   ]
  },
  {
   "cell_type": "code",
   "execution_count": 15,
   "id": "23761e78",
   "metadata": {},
   "outputs": [
    {
     "name": "stdout",
     "output_type": "stream",
     "text": [
      "[9, 0, 'hello', 7, 3, 4, 5]\n",
      "<class 'list'>\n"
     ]
    }
   ],
   "source": [
    "A=([2,6,9,0,'hello',7,3,4,5,6,'world'])\n",
    "print(A[2:9])\n",
    "print(type(A))"
   ]
  },
  {
   "cell_type": "code",
   "execution_count": 17,
   "id": "5c3ffde7",
   "metadata": {},
   "outputs": [
    {
     "name": "stdout",
     "output_type": "stream",
     "text": [
      "['hello', 'world', 'ioi', 'dhjd', 'hjhdf']\n"
     ]
    }
   ],
   "source": [
    "S=(['hello','world','ioi','dhjd'])\n",
    "S.append('hjhdf')\n",
    "print(S)"
   ]
  },
  {
   "cell_type": "code",
   "execution_count": 19,
   "id": "be18707e",
   "metadata": {},
   "outputs": [
    {
     "data": {
      "text/plain": [
       "True"
      ]
     },
     "execution_count": 19,
     "metadata": {},
     "output_type": "execute_result"
    }
   ],
   "source": [
    "some=[6,9,8,7]\n",
    "7 in some\n"
   ]
  },
  {
   "cell_type": "code",
   "execution_count": 20,
   "id": "cb4b0e38",
   "metadata": {},
   "outputs": [
    {
     "data": {
      "text/plain": [
       "True"
      ]
     },
     "execution_count": 20,
     "metadata": {},
     "output_type": "execute_result"
    }
   ],
   "source": [
    "Lis = [1, 2, 4, 4, 3, 3, 3, 6, 5]\n",
    "3 in Lis "
   ]
  },
  {
   "cell_type": "code",
   "execution_count": 21,
   "id": "15d13e41",
   "metadata": {},
   "outputs": [
    {
     "name": "stdout",
     "output_type": "stream",
     "text": [
      "['AI', 'DSP', 'Machine learning', 'web']\n"
     ]
    }
   ],
   "source": [
    "sub=(['AI','Machine learning','DSP','web'])\n",
    "sub.sort()\n",
    "print(sub)"
   ]
  },
  {
   "cell_type": "code",
   "execution_count": 22,
   "id": "52a9c101",
   "metadata": {},
   "outputs": [
    {
     "name": "stdout",
     "output_type": "stream",
     "text": [
      "4\n"
     ]
    }
   ],
   "source": [
    "sub=(['AI','Machine learning','DSP','web'])\n",
    "print(len(sub))"
   ]
  },
  {
   "cell_type": "code",
   "execution_count": 24,
   "id": "881bd7aa",
   "metadata": {},
   "outputs": [
    {
     "name": "stdout",
     "output_type": "stream",
     "text": [
      "['With', 'three', 'words']\n"
     ]
    }
   ],
   "source": [
    "abc = 'With three words' \n",
    "stuff = abc.split()\n",
    "print(stuff)\n"
   ]
  },
  {
   "cell_type": "code",
   "execution_count": 27,
   "id": "75c617c6",
   "metadata": {},
   "outputs": [
    {
     "name": "stdout",
     "output_type": "stream",
     "text": [
      "what\n"
     ]
    }
   ],
   "source": [
    "f= open('AI.txt')\n",
    "for line in f:\n",
    "    line=line.rstrip()\n",
    "    if not line.startswith('In'):\n",
    "        continue\n",
    "    words= line.split()\n",
    "    print(words[7])"
   ]
  },
  {
   "cell_type": "code",
   "execution_count": 28,
   "id": "8420c708",
   "metadata": {},
   "outputs": [
    {
     "name": "stdout",
     "output_type": "stream",
     "text": [
      "{'hello': 0, 'world': 3, 'heloooo': 9}\n"
     ]
    }
   ],
   "source": [
    "dis=dict()\n",
    "dis['hello']=0\n",
    "dis['world']=3\n",
    "dis['heloooo']=9\n",
    "print(dis)"
   ]
  },
  {
   "cell_type": "code",
   "execution_count": 31,
   "id": "0141c6df",
   "metadata": {},
   "outputs": [
    {
     "name": "stdout",
     "output_type": "stream",
     "text": [
      "{'hello': 0, 'world': 3, 'heloooo': 9}\n",
      "{'hello': 0, 'world': 3, 'heloooo': 9, 'age': 83, 'worldd': 80}\n"
     ]
    }
   ],
   "source": [
    "dis=dict()\n",
    "dis['hello']=0\n",
    "dis['world']=3\n",
    "dis['heloooo']=9\n",
    "print(dis)\n",
    "dis['age']=83\n",
    "dis['worldd']=80\n",
    "print(dis)"
   ]
  },
  {
   "cell_type": "code",
   "execution_count": 35,
   "id": "50f6498b",
   "metadata": {},
   "outputs": [
    {
     "name": "stdout",
     "output_type": "stream",
     "text": [
      "{'csev': 1, 'cwen': 3}\n",
      "{'csev': 1, 'cwen': 13}\n"
     ]
    }
   ],
   "source": [
    "ccc=dict()\n",
    "ccc['csev']=1\n",
    "ccc['cwen']=3\n",
    "print(ccc)\n",
    "ccc['cwen']=ccc['cwen']+10\n",
    "print(ccc)"
   ]
  },
  {
   "cell_type": "code",
   "execution_count": 38,
   "id": "3f6c077e",
   "metadata": {},
   "outputs": [
    {
     "name": "stdout",
     "output_type": "stream",
     "text": [
      "{'ll': 1, 'mm': 3, 'tt': 2, 'oo': 2}\n"
     ]
    }
   ],
   "source": [
    "c= dict()\n",
    "nam=['ll','mm','tt','oo','mm','oo','tt','mm']\n",
    "for name in nam:\n",
    "    if name not in c:\n",
    "        c[name]=1\n",
    "    else:\n",
    "        c[name]=c[name]+1\n",
    "print(c)        "
   ]
  },
  {
   "cell_type": "code",
   "execution_count": 48,
   "id": "7eb8b7ff",
   "metadata": {},
   "outputs": [],
   "source": [
    "count=dict()\n",
    "nam=['ll','mm','tt','oo','mm','oo','tt','mm']\n",
    "if name in count:\n",
    "    x= count[name]\n",
    "else:\n",
    "    x=0\n",
    "x=count.get(name,0)    \n",
    "    \n",
    "    "
   ]
  },
  {
   "cell_type": "code",
   "execution_count": null,
   "id": "e2c92ae5",
   "metadata": {},
   "outputs": [],
   "source": []
  }
 ],
 "metadata": {
  "kernelspec": {
   "display_name": "Python 3 (ipykernel)",
   "language": "python",
   "name": "python3"
  },
  "language_info": {
   "codemirror_mode": {
    "name": "ipython",
    "version": 3
   },
   "file_extension": ".py",
   "mimetype": "text/x-python",
   "name": "python",
   "nbconvert_exporter": "python",
   "pygments_lexer": "ipython3",
   "version": "3.11.4"
  }
 },
 "nbformat": 4,
 "nbformat_minor": 5
}
