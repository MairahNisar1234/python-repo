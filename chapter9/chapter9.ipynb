{
 "cells": [
  {
   "cell_type": "code",
   "execution_count": 1,
   "id": "816d7843",
   "metadata": {},
   "outputs": [
    {
     "name": "stdout",
     "output_type": "stream",
     "text": [
      "{'money': 11, 'food': 15, 'tissues': 35}\n"
     ]
    }
   ],
   "source": [
    "coll=dict()\n",
    "coll['money']=11\n",
    "coll['food']=15\n",
    "coll['tissues']=35\n",
    "print(coll)"
   ]
  },
  {
   "cell_type": "code",
   "execution_count": 3,
   "id": "92f3f2a6",
   "metadata": {},
   "outputs": [
    {
     "name": "stdout",
     "output_type": "stream",
     "text": [
      "{'frank': 2, 'emily': 9, 'john': 86}\n"
     ]
    }
   ],
   "source": [
    "dict={'frank':2,'emily':9,'john':86}\n",
    "print(dict)"
   ]
  },
  {
   "cell_type": "markdown",
   "id": "8c430ee1",
   "metadata": {},
   "source": [
    "uses of dictionaries `"
   ]
  },
  {
   "cell_type": "code",
   "execution_count": 15,
   "id": "6471d01f",
   "metadata": {},
   "outputs": [
    {
     "name": "stdout",
     "output_type": "stream",
     "text": [
      "{'emily': 2, 'john': 2, 'smith': 1, 'johnson': 1}\n"
     ]
    }
   ],
   "source": [
    "c= {}\n",
    "names=['emily','john','smith','johnson','emily','john']\n",
    "for name in names:\n",
    "    if name not in c:\n",
    "        c[name]=1\n",
    "    else:\n",
    "        c[name]=c[name]+1\n",
    "print(c)        "
   ]
  },
  {
   "cell_type": "code",
   "execution_count": 26,
   "id": "dbb0a10b",
   "metadata": {},
   "outputs": [
    {
     "name": "stdout",
     "output_type": "stream",
     "text": [
      "9\n",
      "10\n",
      "0\n"
     ]
    }
   ],
   "source": [
    "\n",
    "fruit={'apple':1,'banana':2,'strwaberry':6,'apple':9,'banana':10,'orange':8,'orange':10}\n",
    "apple_count=fruit.get('apple',0)\n",
    "banana_count=fruit.get('orange',0)\n",
    "grapes_count=fruit.get('grapes',0)\n",
    "print(apple_count)\n",
    "print(banana_count)\n",
    "print(grapes_count)"
   ]
  },
  {
   "cell_type": "markdown",
   "id": "86f733dd",
   "metadata": {},
   "source": [
    "counting patterns"
   ]
  },
  {
   "cell_type": "code",
   "execution_count": 28,
   "id": "b0ff4cc7",
   "metadata": {},
   "outputs": [
    {
     "name": "stdout",
     "output_type": "stream",
     "text": [
      "enter a line of text:\n",
      "The life of many celebrities is spent in the most exclusive hotels in the world, but, as we know, death is also a part of life…\n",
      "words ['The', 'life', 'of', 'many', 'celebrities', 'is', 'spent', 'in', 'the', 'most', 'exclusive', 'hotels', 'in', 'the', 'world,', 'but,', 'as', 'we', 'know,', 'death', 'is', 'also', 'a', 'part', 'of', 'life…']\n",
      "counts: {'The': 1, 'life': 1, 'of': 2, 'many': 1, 'celebrities': 1, 'is': 2, 'spent': 1, 'in': 2, 'the': 2, 'most': 1, 'exclusive': 1, 'hotels': 1, 'world,': 1, 'but,': 1, 'as': 1, 'we': 1, 'know,': 1, 'death': 1, 'also': 1, 'a': 1, 'part': 1, 'life…': 1}\n"
     ]
    }
   ],
   "source": [
    "c={}\n",
    "print('enter a line of text:')\n",
    "line=input('')\n",
    "words=line.split()\n",
    "print('words',words)\n",
    "for word in words:\n",
    "    c[word]=c.get(word,0)+1\n",
    "print('counts:',c)"
   ]
  },
  {
   "cell_type": "code",
   "execution_count": 30,
   "id": "3b086437",
   "metadata": {},
   "outputs": [
    {
     "name": "stdout",
     "output_type": "stream",
     "text": [
      "chuck 1\n",
      "fred 42\n",
      "jan 100\n"
     ]
    }
   ],
   "source": [
    "counts = { 'chuck' : 1 , 'fred' : 42, 'jan': 100} \n",
    "for key in counts:\n",
    "    print(key, counts[key])"
   ]
  },
  {
   "cell_type": "code",
   "execution_count": 32,
   "id": "4cf69032",
   "metadata": {},
   "outputs": [
    {
     "name": "stdout",
     "output_type": "stream",
     "text": [
      "dict_items([('apple', 9), ('banana', 10), ('strwaberry', 6), ('orange', 10)])\n"
     ]
    }
   ],
   "source": [
    "fruit={'apple':1,'banana':2,'strwaberry':6,'apple':9,'banana':10,'orange':8,'orange':10}\n",
    "print(fruit.items())"
   ]
  },
  {
   "cell_type": "code",
   "execution_count": 33,
   "id": "fa4f9e84",
   "metadata": {},
   "outputs": [
    {
     "name": "stdout",
     "output_type": "stream",
     "text": [
      "apple 9\n",
      "banana 10\n",
      "strwaberry 6\n",
      "orange 10\n"
     ]
    }
   ],
   "source": [
    "fruit={'apple':1,'banana':2,'strwaberry':6,'apple':9,'banana':10,'orange':8,'orange':10}\n",
    "for fruits,quantity in fruit.items():\n",
    "    print(fruits,quantity)"
   ]
  },
  {
   "cell_type": "code",
   "execution_count": 39,
   "id": "e534c84a",
   "metadata": {},
   "outputs": [
    {
     "name": "stdout",
     "output_type": "stream",
     "text": [
      "Enter file:AI.txt\n"
     ]
    },
    {
     "ename": "AttributeError",
     "evalue": "'str' object attribute 'count' is read-only",
     "output_type": "error",
     "traceback": [
      "\u001b[1;31m---------------------------------------------------------------------------\u001b[0m",
      "\u001b[1;31mAttributeError\u001b[0m                            Traceback (most recent call last)",
      "Cell \u001b[1;32mIn[39], line 10\u001b[0m\n\u001b[0;32m      8\u001b[0m bigcount \u001b[38;5;241m=\u001b[39m \u001b[38;5;28;01mNone\u001b[39;00m \n\u001b[0;32m      9\u001b[0m bigword \u001b[38;5;241m=\u001b[39m \u001b[38;5;28;01mNone\u001b[39;00m\n\u001b[1;32m---> 10\u001b[0m \u001b[38;5;28;01mfor\u001b[39;00m word\u001b[38;5;241m.\u001b[39mcount \u001b[38;5;129;01min\u001b[39;00m counts\u001b[38;5;241m.\u001b[39mitems():\n\u001b[0;32m     11\u001b[0m     \u001b[38;5;28;01mif\u001b[39;00m bigcount \u001b[38;5;129;01mis\u001b[39;00m \u001b[38;5;28;01mNone\u001b[39;00m \u001b[38;5;129;01mor\u001b[39;00m count \u001b[38;5;241m>\u001b[39m bigcount: \n\u001b[0;32m     12\u001b[0m         bigword \u001b[38;5;241m=\u001b[39m word\n",
      "\u001b[1;31mAttributeError\u001b[0m: 'str' object attribute 'count' is read-only"
     ]
    }
   ],
   "source": [
    "name = input('Enter file:') \n",
    "handle = open(name)\n",
    "counts = {}\n",
    "for line in handle: \n",
    "    words = line.split() \n",
    "    for word in words:\n",
    "        counts[word] = counts.get(word,0) + 1\n",
    "bigcount = None \n",
    "bigword = None\n",
    "for word.count in counts.items():\n",
    "    if bigcount is None or count > bigcount: \n",
    "        bigword = word\n",
    "        bigcount = count\n",
    "print(bigword, bigcount)"
   ]
  },
  {
   "cell_type": "code",
   "execution_count": null,
   "id": "09f4dafb",
   "metadata": {},
   "outputs": [],
   "source": []
  },
  {
   "cell_type": "code",
   "execution_count": null,
   "id": "452cb1a4",
   "metadata": {},
   "outputs": [],
   "source": []
  }
 ],
 "metadata": {
  "kernelspec": {
   "display_name": "Python 3 (ipykernel)",
   "language": "python",
   "name": "python3"
  },
  "language_info": {
   "codemirror_mode": {
    "name": "ipython",
    "version": 3
   },
   "file_extension": ".py",
   "mimetype": "text/x-python",
   "name": "python",
   "nbconvert_exporter": "python",
   "pygments_lexer": "ipython3",
   "version": "3.11.4"
  }
 },
 "nbformat": 4,
 "nbformat_minor": 5
}
