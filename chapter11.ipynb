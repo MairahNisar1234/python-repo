{
 "cells": [
  {
   "cell_type": "code",
   "execution_count": 24,
   "id": "10ef0cf4",
   "metadata": {},
   "outputs": [
    {
     "name": "stdout",
     "output_type": "stream",
     "text": [
      "<__main__.MyClass object at 0x000001955FE13A50>\n"
     ]
    }
   ],
   "source": [
    "class MyClass:\n",
    "    variable = \"blah\"\n",
    "\n",
    "    def function(self):\n",
    "        print(\"This is a message inside the class.\")\n",
    "    myobjectx = MyClass()\n",
    "    print(myobjectx)"
   ]
  },
  {
   "cell_type": "code",
   "execution_count": 5,
   "id": "6a80fcc8",
   "metadata": {},
   "outputs": [
    {
     "name": "stdout",
     "output_type": "stream",
     "text": [
      "fi\n",
      "90\n"
     ]
    }
   ],
   "source": [
    "class Person:\n",
    "    def __init__(self,name,age):\n",
    "        self.name=name\n",
    "        self.age=age\n",
    "p1=Person(\"fi\",90)\n",
    "print(p1.name)\n",
    "print(p1.age)\n",
    "        "
   ]
  },
  {
   "cell_type": "code",
   "execution_count": 6,
   "id": "b72f248c",
   "metadata": {},
   "outputs": [
    {
     "name": "stdout",
     "output_type": "stream",
     "text": [
      "fi\n",
      "90\n"
     ]
    }
   ],
   "source": [
    "class Person:\n",
    "    def __init__(self,name,age): #init to assign values\n",
    "        self.name=name\n",
    "        self.age=age\n",
    "    def __str__(self):            #to print strings\n",
    "        return(f\"{self.name},{slef.age}\")\n",
    "        \n",
    "p1=Person(\"fi\",90)\n",
    "print(p1.name)\n",
    "print(p1.age)\n",
    "        "
   ]
  },
  {
   "cell_type": "code",
   "execution_count": 21,
   "id": "0bd0ca2d",
   "metadata": {},
   "outputs": [
    {
     "name": "stdout",
     "output_type": "stream",
     "text": [
      "<bound method Person.mufun of <__main__.Person object at 0x000001955FD9F110>>\n",
      "fi\n",
      "90\n"
     ]
    }
   ],
   "source": [
    "class Person:\n",
    "    def __init__(self,name,age): #init to assign values\n",
    "        self.name=name\n",
    "        self.age=age\n",
    "    def __str__(self):            #to print strings\n",
    "        return(f\"{self.name},{self.age}\")\n",
    "    def mufun(self):\n",
    "        return(\"name is:\")\n",
    "        \n",
    "p1=Person(\"fi\",90)\n",
    "\n",
    "print(p1.mufun)\n",
    "print(p1.name)\n",
    "print(p1.age)\n",
    "        "
   ]
  },
  {
   "cell_type": "code",
   "execution_count": 23,
   "id": "4df56646",
   "metadata": {},
   "outputs": [
    {
     "name": "stdout",
     "output_type": "stream",
     "text": [
      "<__main__.p object at 0x000001955FE133D0>\n"
     ]
    }
   ],
   "source": [
    "class p:\n",
    "    def __init__(myobj,obj1,obj2):\n",
    "        myobj.obj1=obj1\n",
    "        myobj.obj2=obj2\n",
    "    def myfun(abc):\n",
    "        print(\"hello name is:\",abc.name)\n",
    "p1=p(\"hello\",383)\n",
    "print(p1)\n",
    "        \n",
    "        "
   ]
  },
  {
   "cell_type": "code",
   "execution_count": null,
   "id": "29d60fef",
   "metadata": {},
   "outputs": [],
   "source": []
  }
 ],
 "metadata": {
  "kernelspec": {
   "display_name": "Python 3 (ipykernel)",
   "language": "python",
   "name": "python3"
  },
  "language_info": {
   "codemirror_mode": {
    "name": "ipython",
    "version": 3
   },
   "file_extension": ".py",
   "mimetype": "text/x-python",
   "name": "python",
   "nbconvert_exporter": "python",
   "pygments_lexer": "ipython3",
   "version": "3.11.4"
  }
 },
 "nbformat": 4,
 "nbformat_minor": 5
}
