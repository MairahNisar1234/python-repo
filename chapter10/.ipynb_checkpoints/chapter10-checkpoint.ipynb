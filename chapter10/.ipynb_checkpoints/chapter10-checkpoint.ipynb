{
 "cells": [
  {
   "cell_type": "code",
   "execution_count": 1,
   "id": "d91774f5",
   "metadata": {},
   "outputs": [
    {
     "name": "stdout",
     "output_type": "stream",
     "text": [
      "AI\n"
     ]
    }
   ],
   "source": [
    "x=('AI','ML','DL')\n",
    "print(x[0])"
   ]
  },
  {
   "cell_type": "code",
   "execution_count": 2,
   "id": "089ecdcd",
   "metadata": {},
   "outputs": [
    {
     "name": "stdout",
     "output_type": "stream",
     "text": [
      "80\n"
     ]
    }
   ],
   "source": [
    "(x,y,m)=(30,70,80)\n",
    "print(m)"
   ]
  },
  {
   "cell_type": "code",
   "execution_count": 3,
   "id": "e924c2ec",
   "metadata": {},
   "outputs": [
    {
     "name": "stdout",
     "output_type": "stream",
     "text": [
      "x 83\n",
      "y 90\n",
      "r 43\n"
     ]
    }
   ],
   "source": [
    "d=dict()\n",
    "d['x']=83\n",
    "d['y']=90\n",
    "d['r']=43\n",
    "for b,d in d.items():\n",
    "    print(b,d)"
   ]
  },
  {
   "cell_type": "code",
   "execution_count": 4,
   "id": "d5d465c3",
   "metadata": {},
   "outputs": [
    {
     "data": {
      "text/plain": [
       "True"
      ]
     },
     "execution_count": 4,
     "metadata": {},
     "output_type": "execute_result"
    }
   ],
   "source": [
    "(0,1,5)<(5,8,7)"
   ]
  },
  {
   "cell_type": "code",
   "execution_count": 6,
   "id": "5a8998cf",
   "metadata": {},
   "outputs": [
    {
     "name": "stdout",
     "output_type": "stream",
     "text": [
      "[('L', 100), ('U', 90), ('p', 10)]\n"
     ]
    }
   ],
   "source": [
    "d={'p':10,'L':100,'U':90}\n",
    "m=sorted(d.items())\n",
    "print(m)"
   ]
  },
  {
   "cell_type": "code",
   "execution_count": 8,
   "id": "432d24fa",
   "metadata": {},
   "outputs": [
    {
     "name": "stdout",
     "output_type": "stream",
     "text": [
      "the 37\n",
      "and 22\n",
      "to 16\n",
      "of 15\n",
      "a 14\n",
      "is 11\n",
      "that 10\n",
      "agent 10\n",
      "learning 8\n",
      "can 8\n"
     ]
    }
   ],
   "source": [
    "fhand= open('AI.txt')\n",
    "count={}\n",
    "for line in fhand:\n",
    "    words=line.split()\n",
    "    for word in words:\n",
    "        count[word]=count.get(word,0)+1\n",
    "lst=[]\n",
    "for key,val in count.items():\n",
    "    new=(val,key)\n",
    "    lst.append(new)\n",
    "lst=sorted(lst,reverse=True)\n",
    "for val,key in lst[:10]:\n",
    "    print(key,val)"
   ]
  },
  {
   "cell_type": "code",
   "execution_count": null,
   "id": "3692ae3b",
   "metadata": {},
   "outputs": [],
   "source": []
  }
 ],
 "metadata": {
  "kernelspec": {
   "display_name": "Python 3 (ipykernel)",
   "language": "python",
   "name": "python3"
  },
  "language_info": {
   "codemirror_mode": {
    "name": "ipython",
    "version": 3
   },
   "file_extension": ".py",
   "mimetype": "text/x-python",
   "name": "python",
   "nbconvert_exporter": "python",
   "pygments_lexer": "ipython3",
   "version": "3.11.4"
  }
 },
 "nbformat": 4,
 "nbformat_minor": 5
}
