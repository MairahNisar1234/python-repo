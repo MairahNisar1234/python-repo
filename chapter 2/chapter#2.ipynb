{
 "cells": [
  {
   "cell_type": "markdown",
   "id": "4f2bc2d4",
   "metadata": {},
   "source": [
    "##Chapter 2\n",
    "###2.1- print statement"
   ]
  },
  {
   "cell_type": "code",
   "execution_count": 1,
   "id": "301a2660",
   "metadata": {},
   "outputs": [
    {
     "name": "stdout",
     "output_type": "stream",
     "text": [
      "123\n"
     ]
    }
   ],
   "source": [
    "print(123)\n"
   ]
  },
  {
   "cell_type": "code",
   "execution_count": 2,
   "id": "9529cb0e",
   "metadata": {},
   "outputs": [
    {
     "name": "stdout",
     "output_type": "stream",
     "text": [
      "Chapter 1\n"
     ]
    }
   ],
   "source": [
    "print(\"Chapter 1\")"
   ]
  },
  {
   "cell_type": "markdown",
   "id": "ed634266",
   "metadata": {},
   "source": [
    "###2.2- variables"
   ]
  },
  {
   "cell_type": "code",
   "execution_count": 3,
   "id": "76e2cda8",
   "metadata": {},
   "outputs": [
    {
     "name": "stdout",
     "output_type": "stream",
     "text": [
      "29\n"
     ]
    }
   ],
   "source": [
    "_num1=2\n",
    "_num2=5\n",
    "print(_num1**2+_num2**2)"
   ]
  },
  {
   "cell_type": "markdown",
   "id": "496424c4",
   "metadata": {},
   "source": [
    "###2.3- assignment statement"
   ]
  },
  {
   "cell_type": "code",
   "execution_count": null,
   "id": "ed06c085",
   "metadata": {},
   "outputs": [],
   "source": [
    "\n",
    "x= 2.9*5.9\n",
    "print(x)"
   ]
  },
  {
   "cell_type": "code",
   "execution_count": 8,
   "id": "c9162df0",
   "metadata": {
    "scrolled": true
   },
   "outputs": [
    {
     "name": "stdout",
     "output_type": "stream",
     "text": [
      "19900\n"
     ]
    }
   ],
   "source": [
    "x=100\n",
    "y=200\n",
    "z=(x*y)-(x%y)\n",
    "print(z)"
   ]
  },
  {
   "cell_type": "markdown",
   "id": "5bbd7c95",
   "metadata": {},
   "source": [
    "###concatenation"
   ]
  },
  {
   "cell_type": "code",
   "execution_count": 9,
   "id": "f63af2a7",
   "metadata": {},
   "outputs": [
    {
     "name": "stdout",
     "output_type": "stream",
     "text": [
      "thisisasentence\n"
     ]
    }
   ],
   "source": [
    "sentence='this'+'is'+'a'+'sentence'\n",
    "print(sentence)"
   ]
  },
  {
   "cell_type": "code",
   "execution_count": 17,
   "id": "fbcc4be8",
   "metadata": {},
   "outputs": [
    {
     "name": "stdout",
     "output_type": "stream",
     "text": [
      "agricultureuniversity\n"
     ]
    }
   ],
   "source": [
    "z='agriculture'\n",
    "y='university'\n",
    "print(z+ '' +y)"
   ]
  },
  {
   "cell_type": "markdown",
   "id": "4621e9a3",
   "metadata": {},
   "source": [
    "###type conversion"
   ]
  },
  {
   "cell_type": "code",
   "execution_count": 18,
   "id": "79108a5c",
   "metadata": {},
   "outputs": [
    {
     "name": "stdout",
     "output_type": "stream",
     "text": [
      "101.0\n"
     ]
    }
   ],
   "source": [
    "print(float(100)+1)"
   ]
  },
  {
   "cell_type": "code",
   "execution_count": 19,
   "id": "65c02af5",
   "metadata": {},
   "outputs": [
    {
     "data": {
      "text/plain": [
       "float"
      ]
     },
     "execution_count": 19,
     "metadata": {},
     "output_type": "execute_result"
    }
   ],
   "source": [
    "z=100.53647\n",
    "type(z)\n"
   ]
  },
  {
   "cell_type": "code",
   "execution_count": 20,
   "id": "20427288",
   "metadata": {},
   "outputs": [
    {
     "name": "stdout",
     "output_type": "stream",
     "text": [
      "200\n"
     ]
    }
   ],
   "source": [
    "print(int(200.9933))"
   ]
  },
  {
   "cell_type": "markdown",
   "id": "d4559c81",
   "metadata": {},
   "source": [
    "###user input "
   ]
  },
  {
   "cell_type": "code",
   "execution_count": 21,
   "id": "6afb5221",
   "metadata": {},
   "outputs": [
    {
     "name": "stdout",
     "output_type": "stream",
     "text": [
      "what is ypur university name?UAF\n",
      "my university name is UAF\n"
     ]
    }
   ],
   "source": [
    "name= input('what is ypur university name?')\n",
    "print('my university name is',name)"
   ]
  },
  {
   "cell_type": "markdown",
   "id": "3637bb13",
   "metadata": {},
   "source": [
    "###type coversion for input"
   ]
  },
  {
   "cell_type": "code",
   "execution_count": 22,
   "id": "6e20c7bf",
   "metadata": {},
   "outputs": [
    {
     "name": "stdout",
     "output_type": "stream",
     "text": [
      "which semseter are you currently enrolled in?5\n",
      "5\n"
     ]
    }
   ],
   "source": [
    "inp=input('which semseter are you currently enrolled in?')\n",
    "usf=int(inp)\n",
    "print(usf)"
   ]
  },
  {
   "cell_type": "code",
   "execution_count": null,
   "id": "80b6bf2e",
   "metadata": {},
   "outputs": [],
   "source": []
  }
 ],
 "metadata": {
  "kernelspec": {
   "display_name": "Python 3 (ipykernel)",
   "language": "python",
   "name": "python3"
  },
  "language_info": {
   "codemirror_mode": {
    "name": "ipython",
    "version": 3
   },
   "file_extension": ".py",
   "mimetype": "text/x-python",
   "name": "python",
   "nbconvert_exporter": "python",
   "pygments_lexer": "ipython3",
   "version": "3.11.4"
  }
 },
 "nbformat": 4,
 "nbformat_minor": 5
}
