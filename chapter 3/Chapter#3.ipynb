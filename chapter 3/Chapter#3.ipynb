{
 "cells": [
  {
   "cell_type": "markdown",
   "id": "95299725",
   "metadata": {},
   "source": [
    "# chapter 3"
   ]
  },
  {
   "cell_type": "markdown",
   "id": "ff12cdd6",
   "metadata": {},
   "source": [
    "###if statement"
   ]
  },
  {
   "cell_type": "code",
   "execution_count": 9,
   "id": "3525cf78",
   "metadata": {},
   "outputs": [
    {
     "name": "stdout",
     "output_type": "stream",
     "text": [
      "equal\n"
     ]
    }
   ],
   "source": [
    "x=100\n",
    "if x>100:\n",
    "    print('greater')\n",
    "if x<100:\n",
    "    print('smaller')\n",
    "if x==100:    \n",
    "    print('equal')"
   ]
  },
  {
   "cell_type": "code",
   "execution_count": 10,
   "id": "3f03a0dc",
   "metadata": {},
   "outputs": [
    {
     "name": "stdout",
     "output_type": "stream",
     "text": [
      "bigger than 2\n",
      "still bigger\n"
     ]
    }
   ],
   "source": [
    "x=5\n",
    "if x>2:\n",
    "    print('bigger than 2')\n",
    "    print('still bigger')"
   ]
  },
  {
   "cell_type": "code",
   "execution_count": 16,
   "id": "58a403c2",
   "metadata": {},
   "outputs": [
    {
     "name": "stdout",
     "output_type": "stream",
     "text": [
      "enter a number5\n",
      "5\n",
      "bigger than 2\n",
      "done with 5\n"
     ]
    }
   ],
   "source": [
    "i=int( input('enter a number'))\n",
    "print(i)\n",
    "\n",
    "if i>2:\n",
    "        print('bigger than 2')\n",
    "        print('done with',i)\n"
   ]
  },
  {
   "cell_type": "code",
   "execution_count": 18,
   "id": "4262191f",
   "metadata": {},
   "outputs": [
    {
     "name": "stdout",
     "output_type": "stream",
     "text": [
      "more than 20\n",
      "completed\n"
     ]
    }
   ],
   "source": [
    "## nested decisions\n",
    "y=46734\n",
    "if y>20:\n",
    "    print('more than 20')\n",
    "if y<10:\n",
    "    print('less than 10')\n",
    "print('completed')    "
   ]
  },
  {
   "cell_type": "code",
   "execution_count": 19,
   "id": "243a17fc",
   "metadata": {},
   "outputs": [
    {
     "name": "stdout",
     "output_type": "stream",
     "text": [
      "eneter a number:34\n",
      "smaller than 100\n"
     ]
    }
   ],
   "source": [
    "inp= int(input('eneter a number:'))\n",
    "if inp>100:\n",
    "    print('greater than 100')\n",
    "else:\n",
    "    print('smaller than 100')"
   ]
  },
  {
   "cell_type": "code",
   "execution_count": 22,
   "id": "61bc262e",
   "metadata": {},
   "outputs": [
    {
     "name": "stdout",
     "output_type": "stream",
     "text": [
      "enter size:67\n",
      "large\n"
     ]
    }
   ],
   "source": [
    "inp=int(input('enter size:'))\n",
    "if inp<10:\n",
    "    print('small')\n",
    "elif inp<20:\n",
    "    print('medium')\n",
    "else:\n",
    "    print('large')"
   ]
  },
  {
   "cell_type": "code",
   "execution_count": 26,
   "id": "30b1da13",
   "metadata": {},
   "outputs": [
    {
     "name": "stdout",
     "output_type": "stream",
     "text": [
      "enter salary:78384\n",
      "good\n"
     ]
    }
   ],
   "source": [
    " inp=int(input('enter salary:'))\n",
    "try:\n",
    "    if inp>1000:\n",
    "        print('good')\n",
    "except:\n",
    "    print('enter a vaild values')\n",
    "    \n",
    "    "
   ]
  },
  {
   "cell_type": "code",
   "execution_count": null,
   "id": "ef89c8a5",
   "metadata": {},
   "outputs": [],
   "source": []
  },
  {
   "cell_type": "code",
   "execution_count": null,
   "id": "4717cd1d",
   "metadata": {},
   "outputs": [],
   "source": []
  }
 ],
 "metadata": {
  "kernelspec": {
   "display_name": "Python 3 (ipykernel)",
   "language": "python",
   "name": "python3"
  },
  "language_info": {
   "codemirror_mode": {
    "name": "ipython",
    "version": 3
   },
   "file_extension": ".py",
   "mimetype": "text/x-python",
   "name": "python",
   "nbconvert_exporter": "python",
   "pygments_lexer": "ipython3",
   "version": "3.11.4"
  }
 },
 "nbformat": 4,
 "nbformat_minor": 5
}
