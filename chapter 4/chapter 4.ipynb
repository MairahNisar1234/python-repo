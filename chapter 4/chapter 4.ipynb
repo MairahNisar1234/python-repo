{
 "cells": [
  {
   "cell_type": "markdown",
   "id": "bb16ce9c",
   "metadata": {},
   "source": [
    "# chapter 4\n",
    "##functions\n"
   ]
  },
  {
   "cell_type": "code",
   "execution_count": 1,
   "id": "2a7901b3",
   "metadata": {},
   "outputs": [
    {
     "name": "stdout",
     "output_type": "stream",
     "text": [
      "number of functions are:\n",
      "function 1\n",
      "function 2\n"
     ]
    }
   ],
   "source": [
    "def func():\n",
    "    print('function 1')\n",
    "    print('function 2')\n",
    "print('number of functions are:')\n",
    "func()"
   ]
  },
  {
   "cell_type": "code",
   "execution_count": 4,
   "id": "452ec6a8",
   "metadata": {},
   "outputs": [
    {
     "name": "stdout",
     "output_type": "stream",
     "text": [
      "numbers after division are:\n",
      "answer: 0.02247191011235955\n"
     ]
    }
   ],
   "source": [
    "def div(num1,num2):\n",
    "    div=num1/num2\n",
    "    print('answer:',div)\n",
    "print('numbers after division are:')\n",
    "div(2,89)\n",
    "    "
   ]
  },
  {
   "cell_type": "code",
   "execution_count": 5,
   "id": "20b6da1b",
   "metadata": {},
   "outputs": [
    {
     "name": "stdout",
     "output_type": "stream",
     "text": [
      "w\n"
     ]
    }
   ],
   "source": [
    "big= max('hello world')\n",
    "print(big)"
   ]
  },
  {
   "cell_type": "code",
   "execution_count": 30,
   "id": "b84ceaf5",
   "metadata": {},
   "outputs": [
    {
     "name": "stdout",
     "output_type": "stream",
     "text": [
      "choose one of these 1.esp 2.fr 3.eng=eng\n"
     ]
    }
   ],
   "source": [
    "\n",
    "def greet(lang):\n",
    "    if lang =='esp':\n",
    "        print('hola')\n",
    "    elif lang=='fr':\n",
    "        print('bonjour')\n",
    "a=input('choose one of these 1.esp 2.fr 3.eng=')\n",
    "greet(a)\n",
    "     "
   ]
  },
  {
   "cell_type": "code",
   "execution_count": 53,
   "id": "99e6e706",
   "metadata": {},
   "outputs": [
    {
     "name": "stdout",
     "output_type": "stream",
     "text": [
      "enter an emoji😒\n",
      "unamused face\n"
     ]
    }
   ],
   "source": [
    "def emoji(ch1):\n",
    "    if  ch1=='😁' :\n",
    "        print('smiley face')\n",
    "    elif  ch1=='😒':    \n",
    "        print('unamused face')\n",
    "    elif ch1=='🙂':\n",
    "        print('slightly smiley face')\n",
    "    elif ch1=='😎':\n",
    "        print('face with sunglasses')\n",
    "inp=input('enter an emoji')\n",
    "emoji(inp)\n"
   ]
  },
  {
   "cell_type": "code",
   "execution_count": 57,
   "id": "c3ec6181",
   "metadata": {},
   "outputs": [
    {
     "name": "stdout",
     "output_type": "stream",
     "text": [
      "12\n",
      "5976\n"
     ]
    }
   ],
   "source": [
    "def add(num1, num2):\n",
    "    add= num1+num2\n",
    "    print(add) \n",
    "def mult(num1, num2):\n",
    "    mult=num1*num2\n",
    "    print(mult)\n",
    "add(3,9)\n",
    "mult(72,83)\n"
   ]
  },
  {
   "cell_type": "code",
   "execution_count": null,
   "id": "c10a021a",
   "metadata": {},
   "outputs": [],
   "source": []
  }
 ],
 "metadata": {
  "kernelspec": {
   "display_name": "Python 3 (ipykernel)",
   "language": "python",
   "name": "python3"
  },
  "language_info": {
   "codemirror_mode": {
    "name": "ipython",
    "version": 3
   },
   "file_extension": ".py",
   "mimetype": "text/x-python",
   "name": "python",
   "nbconvert_exporter": "python",
   "pygments_lexer": "ipython3",
   "version": "3.11.4"
  }
 },
 "nbformat": 4,
 "nbformat_minor": 5
}
