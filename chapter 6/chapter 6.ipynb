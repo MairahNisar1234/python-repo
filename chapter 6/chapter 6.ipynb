{
 "cells": [
  {
   "cell_type": "code",
   "execution_count": null,
   "id": "a818805d",
   "metadata": {},
   "outputs": [],
   "source": []
  },
  {
   "cell_type": "markdown",
   "id": "75745285",
   "metadata": {},
   "source": [
    "# chapter 6"
   ]
  },
  {
   "cell_type": "code",
   "execution_count": 1,
   "id": "ff1e6105",
   "metadata": {},
   "outputs": [
    {
     "name": "stdout",
     "output_type": "stream",
     "text": [
      "i am a student\n"
     ]
    }
   ],
   "source": [
    "str1='i am '\n",
    "str2='a student'\n",
    "z= str1+str2\n",
    "print(z)"
   ]
  },
  {
   "cell_type": "code",
   "execution_count": 4,
   "id": "f2e7c18b",
   "metadata": {},
   "outputs": [
    {
     "name": "stdout",
     "output_type": "stream",
     "text": [
      "enter a number9089\n",
      "9189 +100= 9189\n"
     ]
    }
   ],
   "source": [
    "num= input('enter a number')\n",
    "x=int(num)+100\n",
    "print(x,'+100=',x)"
   ]
  },
  {
   "cell_type": "code",
   "execution_count": 7,
   "id": "fffe6c78",
   "metadata": {},
   "outputs": [
    {
     "name": "stdout",
     "output_type": "stream",
     "text": [
      "n\n",
      "18\n"
     ]
    }
   ],
   "source": [
    "a='a fast running fox'\n",
    "print(a[9])\n",
    "print(len(a))"
   ]
  },
  {
   "cell_type": "code",
   "execution_count": 10,
   "id": "ce5373f3",
   "metadata": {},
   "outputs": [
    {
     "name": "stdout",
     "output_type": "stream",
     "text": [
      "0 d\n",
      "1 i\n",
      "2 n\n",
      "3 a\n",
      "4 s\n",
      "5 o\n",
      "6 u\n",
      "7 r\n"
     ]
    }
   ],
   "source": [
    "animal='dinasour'\n",
    "\n",
    "while index<len(animal):\n",
    "    letter=animal[index]\n",
    "    print(index, letter)\n",
    "    index=index+1    "
   ]
  },
  {
   "cell_type": "code",
   "execution_count": 11,
   "id": "60aad763",
   "metadata": {},
   "outputs": [
    {
     "name": "stdout",
     "output_type": "stream",
     "text": [
      "3\n"
     ]
    }
   ],
   "source": [
    "word='artificial intelligence'\n",
    "count=0\n",
    "for letter in word:\n",
    "    if letter =='e':\n",
    "        count=count+1\n",
    "print(count)        \n",
    "        "
   ]
  },
  {
   "cell_type": "code",
   "execution_count": 14,
   "id": "3aa02e60",
   "metadata": {},
   "outputs": [
    {
     "name": "stdout",
     "output_type": "stream",
     "text": [
      "hjkfi\n",
      "jdkhjkfie\n"
     ]
    }
   ],
   "source": [
    "word='jdkhjkfieiwieuiuw'\n",
    "print(word[3:8])\n",
    "print(word[:9])"
   ]
  },
  {
   "cell_type": "code",
   "execution_count": 15,
   "id": "6e99a816",
   "metadata": {},
   "outputs": [
    {
     "data": {
      "text/plain": [
       "True"
      ]
     },
     "execution_count": 15,
     "metadata": {},
     "output_type": "execute_result"
    }
   ],
   "source": [
    "q='hello world'\n",
    "'world' in q\n"
   ]
  },
  {
   "cell_type": "code",
   "execution_count": 22,
   "id": "79b07525",
   "metadata": {},
   "outputs": [
    {
     "name": "stdout",
     "output_type": "stream",
     "text": [
      "artificial inteliigence\n"
     ]
    }
   ],
   "source": [
    "str='artificial inteliigence'\n",
    "q=str.lower()\n",
    "print(q)"
   ]
  },
  {
   "cell_type": "code",
   "execution_count": 23,
   "id": "8906314f",
   "metadata": {},
   "outputs": [
    {
     "name": "stdout",
     "output_type": "stream",
     "text": [
      "8\n"
     ]
    }
   ],
   "source": [
    "str='machine learning is a domain of AI'\n",
    "q=str.find('lear')\n",
    "print(q)"
   ]
  },
  {
   "cell_type": "code",
   "execution_count": 24,
   "id": "f822600d",
   "metadata": {},
   "outputs": [
    {
     "data": {
      "text/plain": [
       "False"
      ]
     },
     "execution_count": 24,
     "metadata": {},
     "output_type": "execute_result"
    }
   ],
   "source": [
    "str='have a nice day'\n",
    "str.startswith('nice')"
   ]
  },
  {
   "cell_type": "code",
   "execution_count": 25,
   "id": "92e5e7bc",
   "metadata": {},
   "outputs": [
    {
     "data": {
      "text/plain": [
       "False"
      ]
     },
     "execution_count": 25,
     "metadata": {},
     "output_type": "execute_result"
    }
   ],
   "source": [
    "str='have a nice day'\n",
    "str.endswith('nice')"
   ]
  }
 ],
 "metadata": {
  "kernelspec": {
   "display_name": "Python 3 (ipykernel)",
   "language": "python",
   "name": "python3"
  },
  "language_info": {
   "codemirror_mode": {
    "name": "ipython",
    "version": 3
   },
   "file_extension": ".py",
   "mimetype": "text/x-python",
   "name": "python",
   "nbconvert_exporter": "python",
   "pygments_lexer": "ipython3",
   "version": "3.11.4"
  }
 },
 "nbformat": 4,
 "nbformat_minor": 5
}
